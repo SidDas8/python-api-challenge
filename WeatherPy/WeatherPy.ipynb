{
 "cells": [
  {
   "cell_type": "markdown",
   "metadata": {},
   "source": [
    "# WeatherPy\n",
    "----\n",
    "\n",
    "#### Note\n",
    "* Instructions have been included for each segment. You do not have to follow them exactly, but they are included to help you think through the steps."
   ]
  },
  {
   "cell_type": "code",
   "execution_count": 1,
   "metadata": {
    "scrolled": true
   },
   "outputs": [
    {
     "ename": "ModuleNotFoundError",
     "evalue": "No module named 'config'",
     "output_type": "error",
     "traceback": [
      "\u001b[0;31m---------------------------------------------------------------------------\u001b[0m",
      "\u001b[0;31mModuleNotFoundError\u001b[0m                       Traceback (most recent call last)",
      "\u001b[0;32m<ipython-input-1-438a1d4a5a67>\u001b[0m in \u001b[0;36m<module>\u001b[0;34m\u001b[0m\n\u001b[1;32m      9\u001b[0m \u001b[0;34m\u001b[0m\u001b[0m\n\u001b[1;32m     10\u001b[0m \u001b[0;31m# Import API key\u001b[0m\u001b[0;34m\u001b[0m\u001b[0;34m\u001b[0m\u001b[0;34m\u001b[0m\u001b[0m\n\u001b[0;32m---> 11\u001b[0;31m \u001b[0;32mfrom\u001b[0m \u001b[0mconfig\u001b[0m \u001b[0;32mimport\u001b[0m \u001b[0mapi_key\u001b[0m\u001b[0;34m\u001b[0m\u001b[0;34m\u001b[0m\u001b[0m\n\u001b[0m\u001b[1;32m     12\u001b[0m \u001b[0;34m\u001b[0m\u001b[0m\n\u001b[1;32m     13\u001b[0m \u001b[0;31m# Incorporated citipy to determine city based on latitude and longitude\u001b[0m\u001b[0;34m\u001b[0m\u001b[0;34m\u001b[0m\u001b[0;34m\u001b[0m\u001b[0m\n",
      "\u001b[0;31mModuleNotFoundError\u001b[0m: No module named 'config'"
     ]
    }
   ],
   "source": [
    "# Dependencies and Setup\n",
    "import matplotlib.pyplot as plt\n",
    "import pandas as pd\n",
    "import numpy as np\n",
    "import requests\n",
    "import time\n",
    "import json\n",
    "from scipy.stats import linregress\n",
    "\n",
    "# Import API key\n",
    "from config import api_key\n",
    "\n",
    "# Incorporated citipy to determine city based on latitude and longitude\n",
    "from citipy import citipy\n",
    "\n",
    "# Output File (CSV)\n",
    "output_data_file = \"output_data/cities.csv\"\n",
    "\n",
    "# Range of latitudes and longitudes\n",
    "lat_range = (-90, 90)\n",
    "lng_range = (-180, 180)"
   ]
  },
  {
   "cell_type": "markdown",
   "metadata": {},
   "source": [
    "## Generate Cities List"
   ]
  },
  {
   "cell_type": "code",
   "execution_count": null,
   "metadata": {},
   "outputs": [],
   "source": [
    "# List for holding lat_lngs and cities\n",
    "lat_lngs = []\n",
    "cities = []\n",
    "\n",
    "# Create a set of random lat and lng combinations\n",
    "lats = np.random.uniform(lat_range[0], lat_range[1], size=1500)\n",
    "lngs = np.random.uniform(lng_range[0], lng_range[1], size=1500)\n",
    "lat_lngs = zip(lats, lngs)\n",
    "\n",
    "# Identify nearest city for each lat, lng combination\n",
    "for lat_lng in lat_lngs:\n",
    "    city = citipy.nearest_city(lat_lng[0], lat_lng[1]).city_name\n",
    "    \n",
    "    # If the city is unique, then add it to a our cities list\n",
    "    if city not in cities:\n",
    "        cities.append(city)\n",
    "\n",
    "# Print the city count to confirm sufficient count\n",
    "len(cities)"
   ]
  },
  {
   "cell_type": "markdown",
   "metadata": {},
   "source": [
    "### Perform API Calls\n",
    "* Perform a weather check on each city using a series of successive API calls.\n",
    "* Include a print log of each city as it'sbeing processed (with the city number and city name).\n"
   ]
  },
  {
   "cell_type": "code",
   "execution_count": null,
   "metadata": {
    "scrolled": true
   },
   "outputs": [],
   "source": [
    "# Set variables for base url and units\n",
    "url = \"http://api.openweathermap.org/data/2.5/weather?\"\n",
    "units = \"imperial\"\n",
    "\n",
    "# Setup URL query using the base url, api key, and units\n",
    "query_url = f\"{url}appid={api_key}&units={units}&q=\"\n",
    "\n",
    "# Create lists to hold relevant data\n",
    "city_list = []\n",
    "cloudiness_list = []\n",
    "country_list = []\n",
    "date_list = []\n",
    "humidity_list = []\n",
    "latitude_list = []\n",
    "longitude_list = []\n",
    "maxtemperature_list = []\n",
    "windspeed_list = []\n",
    "\n",
    "# City counter for loop\n",
    "citycounter = 0\n",
    "\n",
    "# Header of print log\n",
    "print(\"Retrieving data.\")\n",
    "print(\"----------------\")\n",
    "\n",
    "# Loop through list of cities\n",
    "for eachcity in cities:\n",
    "    \n",
    "    # Perform a get request for each city and store json response in a variable\n",
    "    jsonresponse = requests.get(query_url + eachcity).json()\n",
    "    \n",
    "    # Handle errors for cities with missing data\n",
    "    try:\n",
    "        \n",
    "        # Retrieve specific data and append to relevant list\n",
    "        # City\n",
    "        city = jsonresponse['name']\n",
    "        city_list.append(city)\n",
    "        # Cloudiness\n",
    "        cloudiness = jsonresponse['clouds']['all']\n",
    "        cloudiness_list.append(cloudiness)\n",
    "        # Country\n",
    "        country = jsonresponse['sys']['country']\n",
    "        country_list.append(country)\n",
    "        # Data\n",
    "        date = jsonresponse[\"dt\"]\n",
    "        date_list.append(date)\n",
    "        # Humidity\n",
    "        humidity = jsonresponse['main']['humidity']\n",
    "        humidity_list.append(humidity)\n",
    "        # Latitude\n",
    "        latitude = jsonresponse['coord']['lat']\n",
    "        latitude_list.append(latitude)\n",
    "        # Longitude\n",
    "        longitude = jsonresponse['coord']['lon']\n",
    "        longitude_list.append(longitude)\n",
    "        # Max temperature\n",
    "        maxtemperature = jsonresponse['main']['temp_max']\n",
    "        maxtemperature_list.append(maxtemperature)\n",
    "        # Wind speed\n",
    "        windspeed = jsonresponse['wind']['speed']\n",
    "        windspeed_list.append(windspeed)\n",
    "        \n",
    "        # Track city count\n",
    "        citycounter = citycounter + 1\n",
    "        \n",
    "        # Print log of each city\n",
    "        print(f\"City number {citycounter} is named {eachcity}.\")\n",
    "    \n",
    "    except:\n",
    "        # If the city is missing data, print different log and move to next city\n",
    "        print('The data is incomplete for this city. Moving to next city...')\n",
    "        pass\n",
    "\n",
    "# Footer of print log\n",
    "print(\"-----------------------------\")\n",
    "print(\"City data retrieval complete.\")"
   ]
  },
  {
   "cell_type": "markdown",
   "metadata": {},
   "source": [
    "### Convert Raw Data to DataFrame\n",
    "* Export the city data into a .csv.\n",
    "* Display the DataFrame"
   ]
  },
  {
   "cell_type": "code",
   "execution_count": null,
   "metadata": {},
   "outputs": [],
   "source": [
    "# Display data in a data frame\n",
    "cityweather_df = pd.DataFrame({\"City\" : city_list, \"Cloudiness\" : cloudiness_list,\n",
    "                          \"Country\" : country_list, \"Date\" : date_list,\n",
    "                          \"Humidity\" : humidity_list, \"Latitude\" : latitude_list, \n",
    "                          \"Longitude\" : longitude_list, \"Max Temperature\" : maxtemperature_list, \n",
    "                          \"Wind Speed\" : windspeed_list})\n",
    "\n",
    "# Convert 'Date' column to display in readable format\n",
    "cityweather_df['Date'] = pd.to_datetime(cityweather_df['Date'], unit = 's')\n",
    "\n",
    "cityweather_df"
   ]
  },
  {
   "cell_type": "code",
   "execution_count": null,
   "metadata": {},
   "outputs": [],
   "source": [
    "# Export to CSV file\n",
    "cityweather_df.to_csv(\"Output/cityweather.csv\", index = False, header = True)"
   ]
  },
  {
   "cell_type": "markdown",
   "metadata": {},
   "source": [
    "## Inspect the data and remove the cities where the humidity > 100%.\n",
    "----\n",
    "Skip this step if there are no cities that have humidity > 100%. "
   ]
  },
  {
   "cell_type": "code",
   "execution_count": null,
   "metadata": {},
   "outputs": [],
   "source": [
    "# Used information from:\n",
    "# https://thispointer.com/python-pandas-how-to-drop-rows-in-dataframe-by-conditions-on-column-values/\n",
    "\n",
    "# Get the indices of cities that have humidity over 100%.\n",
    "humidityindex = cityweather_df[cityweather_df['Humidity'] > 100 ].index\n",
    "\n",
    "# Make a new DataFrame equal to the city data to drop all humidity outliers by index.\n",
    "# Passing \"inplace=False\" will make a copy of the city_data DataFrame, which we call \"cleancitydata_df\".\n",
    "cleancitydata_df = cityweather_df.drop(humidityindex, inplace = False)\n",
    "\n",
    "# Same number of rows indicates that zero cities had a humidity > 100\n",
    "cleancitydata_df"
   ]
  },
  {
   "cell_type": "markdown",
   "metadata": {},
   "source": [
    "## Plotting the Data\n",
    "* Use proper labeling of the plots using plot titles (including date of analysis) and axes labels.\n",
    "* Save the plotted figures as .pngs."
   ]
  },
  {
   "cell_type": "markdown",
   "metadata": {},
   "source": [
    "## Latitude vs. Temperature Plot"
   ]
  },
  {
   "cell_type": "code",
   "execution_count": null,
   "metadata": {
    "scrolled": true
   },
   "outputs": [],
   "source": [
    "# Used information from:\n",
    "# https://www.programiz.com/python-programming/datetime/current-datetime\n",
    "\n",
    "# Scatter plot\n",
    "plt.scatter(cleancitydata_df['Latitude'], cleancitydata_df['Max Temperature'], \n",
    "            c =cleancitydata_df['Max Temperature'], cmap= 'cool')\n",
    "\n",
    "# Set textual properties\n",
    "plt.title(f'Latitude vs. Max Temperature ' + time.strftime('%B %d, %Y'))\n",
    "plt.ylabel('Max Temperature in Farenheit')\n",
    "plt.xlabel('Latitude')\n",
    "\n",
    "# Format visualization\n",
    "plt.grid()\n",
    "plt.tight_layout()\n",
    "\n",
    "# Save plot to images folder\n",
    "plt.savefig('Images/latitude-temperature.png')\n",
    "\n",
    "plt.show()"
   ]
  },
  {
   "cell_type": "markdown",
   "metadata": {},
   "source": [
    "## Latitude vs. Humidity Plot"
   ]
  },
  {
   "cell_type": "code",
   "execution_count": null,
   "metadata": {},
   "outputs": [],
   "source": [
    "# Scatter plot\n",
    "plt.scatter(cleancitydata_df['Latitude'], cleancitydata_df['Humidity'], \n",
    "            c =cleancitydata_df['Humidity'], cmap= 'cool')\n",
    "\n",
    "# Set textual properties\n",
    "plt.title(f'Latitude vs. Humidity ' + time.strftime('%B %d, %Y'))\n",
    "plt.ylabel('Humidity %')\n",
    "plt.xlabel('Latitude')\n",
    "\n",
    "# Format visualization\n",
    "plt.grid()\n",
    "plt.tight_layout()\n",
    "\n",
    "# Save plot to images folder\n",
    "plt.savefig('Images/latitude-humidity.png')\n",
    "\n",
    "plt.show()"
   ]
  },
  {
   "cell_type": "markdown",
   "metadata": {},
   "source": [
    "## Latitude vs. Cloudiness Plot"
   ]
  },
  {
   "cell_type": "code",
   "execution_count": null,
   "metadata": {},
   "outputs": [],
   "source": [
    "# Scatter plot\n",
    "plt.scatter(cleancitydata_df['Latitude'], cleancitydata_df['Cloudiness'], \n",
    "            c =cleancitydata_df['Cloudiness'], cmap= 'cool')\n",
    "\n",
    "# Set textual properties\n",
    "plt.title(f'Latitude vs. Cloudiness ' + time.strftime('%B %d, %Y'))\n",
    "plt.ylabel('Cloudiness %')\n",
    "plt.xlabel('Latitude')\n",
    "\n",
    "# Format visualization\n",
    "plt.grid()\n",
    "plt.tight_layout()\n",
    "\n",
    "# Save plot to images folder\n",
    "plt.savefig('Images/latitude-cloudiness.png')\n",
    "\n",
    "plt.show()"
   ]
  },
  {
   "cell_type": "markdown",
   "metadata": {},
   "source": [
    "## Latitude vs. Wind Speed Plot"
   ]
  },
  {
   "cell_type": "code",
   "execution_count": null,
   "metadata": {},
   "outputs": [],
   "source": [
    "# Scatter plot\n",
    "plt.scatter(cleancitydata_df['Latitude'], cleancitydata_df['Wind Speed'], \n",
    "            c =cleancitydata_df['Wind Speed'], cmap= 'cool')\n",
    "\n",
    "# Set textual properties\n",
    "plt.title(f'Latitude vs. Wind Speed ' + time.strftime('%B %d, %Y'))\n",
    "plt.ylabel('Wind Speed (MPH)')\n",
    "plt.xlabel('Latitude')\n",
    "\n",
    "# Format visualization\n",
    "plt.grid()\n",
    "plt.tight_layout()\n",
    "\n",
    "# Save plot to images folder\n",
    "plt.savefig('Images/latitude-windspeed.png')\n",
    "\n",
    "plt.show()"
   ]
  },
  {
   "cell_type": "markdown",
   "metadata": {},
   "source": [
    "## Linear Regression"
   ]
  },
  {
   "cell_type": "code",
   "execution_count": null,
   "metadata": {},
   "outputs": [],
   "source": [
    "# Split data into Northern and Southern Hemispheres\n",
    "northernhemisphere = cleancitydata_df.loc[cleancitydata_df['Latitude'] > 0]\n",
    "southernhemisphere = cleancitydata_df.loc[cleancitydata_df['Latitude'] < 0]"
   ]
  },
  {
   "cell_type": "code",
   "execution_count": null,
   "metadata": {},
   "outputs": [],
   "source": [
    "# Funciton for linear regression using specific hemisphere latitude vs y axis\n",
    "def linearregression(xaxis, yaxis):\n",
    "    # Perform a linear regression\n",
    "    (slope, intercept, rvalue, pvalue, stderr) = linregress(xaxis, yaxis)\n",
    "                                                                  \n",
    "    # Get regression values\n",
    "    regress_values = xaxis * slope + intercept\n",
    "                                                                  \n",
    "    # Create line equation string\n",
    "    line_eq = \"y = \" + str(round(slope,2)) + \"x +\" + str(round(intercept,2))\n",
    "    \n",
    "    # Regression plot must be inside function to call regress_values\n",
    "    plt.plot(xaxis, regress_values, \"r-\")\n",
    "    \n",
    "    # Print r value\n",
    "    print(f\"The r-value is: {rvalue**2}\")\n",
    "    \n",
    "    # Finish function and return line_eq to be used for plotting placement\n",
    "    return line_eq"
   ]
  },
  {
   "cell_type": "markdown",
   "metadata": {},
   "source": [
    "####  Northern Hemisphere - Max Temp vs. Latitude Linear Regression"
   ]
  },
  {
   "cell_type": "code",
   "execution_count": null,
   "metadata": {},
   "outputs": [],
   "source": [
    "# Define x and y axis\n",
    "xaxis = northernhemisphere['Latitude']\n",
    "yaxis = northernhemisphere['Max Temperature']\n",
    "\n",
    "# Scatter plot\n",
    "plt.scatter(xaxis, yaxis, c = yaxis, cmap = 'cool')\n",
    "\n",
    "# Linear regression\n",
    "equation = linearregression(xaxis, yaxis)\n",
    "\n",
    "# Print line equation\n",
    "plt.annotate(equation,(0,5),fontsize=15,color=\"red\")\n",
    "\n",
    "# Set textual properties\n",
    "plt.title(f'Northern Latitude vs. Max Temperature ' + time.strftime('%B %d, %Y'))\n",
    "plt.ylabel('Max Temperature in Farenheit')\n",
    "plt.xlabel('Northern Latitude')\n",
    "\n",
    "\n",
    "# Format visualization\n",
    "plt.grid()\n",
    "plt.tight_layout()\n",
    "\n",
    "# Save plot to images folder\n",
    "plt.savefig('Images/northhemisphere-temperaturelatitude.png')\n",
    "\n",
    "plt.show()"
   ]
  },
  {
   "cell_type": "markdown",
   "metadata": {},
   "source": [
    "####  Southern Hemisphere - Max Temp vs. Latitude Linear Regression"
   ]
  },
  {
   "cell_type": "code",
   "execution_count": null,
   "metadata": {},
   "outputs": [],
   "source": [
    "# Define x and y axis\n",
    "xaxis = southernhemisphere['Latitude']\n",
    "yaxis = southernhemisphere['Max Temperature']\n",
    "\n",
    "# Scatter plot\n",
    "plt.scatter(xaxis, yaxis, c = yaxis, cmap = 'cool')\n",
    "\n",
    "# Linear regression\n",
    "equation = linearregression(xaxis, yaxis)\n",
    "\n",
    "# Print line equation\n",
    "plt.annotate(equation,(-40,45),fontsize=15,color=\"red\")\n",
    "\n",
    "# Set textual properties\n",
    "plt.title(f'Southern Latitude vs. Max Temperature ' + time.strftime('%B %d, %Y'))\n",
    "plt.ylabel('Max Temperature in Farenheit')\n",
    "plt.xlabel('Southern Latitude')\n",
    "\n",
    "# Format visualization\n",
    "plt.grid()\n",
    "plt.tight_layout()\n",
    "\n",
    "# Save plot to images folder\n",
    "plt.savefig('Images/southhemisphere-temperaturelatitude.png')\n",
    "\n",
    "plt.show"
   ]
  },
  {
   "cell_type": "markdown",
   "metadata": {},
   "source": [
    "####  Northern Hemisphere - Humidity (%) vs. Latitude Linear Regression"
   ]
  },
  {
   "cell_type": "code",
   "execution_count": null,
   "metadata": {},
   "outputs": [],
   "source": [
    "# Define x and y axis\n",
    "xaxis = northernhemisphere['Latitude']\n",
    "yaxis = northernhemisphere['Humidity']\n",
    "\n",
    "# Scatter plot\n",
    "plt.scatter(xaxis, yaxis, c = yaxis, cmap = 'cool')\n",
    "\n",
    "# Linear regression\n",
    "equation = linearregression(xaxis, yaxis)\n",
    "\n",
    "# Print line equation\n",
    "plt.annotate(equation,(45,30),fontsize=15,color=\"red\")\n",
    "\n",
    "# Set textual properties\n",
    "plt.title(f'Northern Latitude vs. Humidity ' + time.strftime('%B %d, %Y'))\n",
    "plt.ylabel('Humidity %')\n",
    "plt.xlabel('Northern Latitude')\n",
    "\n",
    "# Format visualization\n",
    "plt.grid()\n",
    "plt.tight_layout()\n",
    "\n",
    "# Save plot to images folder\n",
    "plt.savefig('Images/northhemisphere-humiditylatitude.png')\n",
    "\n",
    "plt.show()"
   ]
  },
  {
   "cell_type": "markdown",
   "metadata": {},
   "source": [
    "####  Southern Hemisphere - Humidity (%) vs. Latitude Linear Regression"
   ]
  },
  {
   "cell_type": "code",
   "execution_count": null,
   "metadata": {},
   "outputs": [],
   "source": [
    "# Define x and y axis\n",
    "xaxis = southernhemisphere['Latitude']\n",
    "yaxis = southernhemisphere['Humidity']\n",
    "\n",
    "# Scatter plot\n",
    "plt.scatter(xaxis, yaxis, c = yaxis, cmap = 'cool')\n",
    "\n",
    "# Linear regression\n",
    "equation = linearregression(xaxis, yaxis)\n",
    "\n",
    "# Print line equation\n",
    "plt.annotate(equation,(-25,30),fontsize=15,color=\"red\")\n",
    "\n",
    "# Set textual properties\n",
    "plt.title(f'Southern Latitude vs. Humidity ' + time.strftime('%B %d, %Y'))\n",
    "plt.ylabel('Humidity %')\n",
    "plt.xlabel('Southern Latitude')\n",
    "\n",
    "# Format visualization\n",
    "plt.grid()\n",
    "plt.tight_layout()\n",
    "\n",
    "# Save plot to images folder\n",
    "plt.savefig('Images/southhemisphere-humiditylatitude.png')\n",
    "\n",
    "plt.show"
   ]
  },
  {
   "cell_type": "markdown",
   "metadata": {},
   "source": [
    "####  Northern Hemisphere - Cloudiness (%) vs. Latitude Linear Regression"
   ]
  },
  {
   "cell_type": "code",
   "execution_count": null,
   "metadata": {},
   "outputs": [],
   "source": [
    "# Define x and y axis\n",
    "xaxis = northernhemisphere['Latitude']\n",
    "yaxis = northernhemisphere['Cloudiness']\n",
    "\n",
    "# Scatter plot\n",
    "plt.scatter(xaxis, yaxis, c = yaxis, cmap = 'cool')\n",
    "\n",
    "# Linear regression\n",
    "equation = linearregression(xaxis, yaxis)\n",
    "\n",
    "# Print line equation\n",
    "plt.annotate(equation,(20,30),fontsize=15,color=\"red\")\n",
    "\n",
    "# Set textual properties\n",
    "plt.title(f'Northern Latitude vs. Cloudiness ' + time.strftime('%B %d, %Y'))\n",
    "plt.ylabel('Cloudiness %')\n",
    "plt.xlabel('Northern Latitude')\n",
    "\n",
    "# Format visualization\n",
    "plt.grid()\n",
    "plt.tight_layout()\n",
    "\n",
    "# Save plot to images folder\n",
    "plt.savefig('Images/northhemisphere-cloudinesslatitude.png')\n",
    "\n",
    "plt.show()"
   ]
  },
  {
   "cell_type": "markdown",
   "metadata": {},
   "source": [
    "####  Southern Hemisphere - Cloudiness (%) vs. Latitude Linear Regression"
   ]
  },
  {
   "cell_type": "code",
   "execution_count": null,
   "metadata": {},
   "outputs": [],
   "source": [
    "# Define x and y axis\n",
    "xaxis = southernhemisphere['Latitude']\n",
    "yaxis = southernhemisphere['Cloudiness']\n",
    "\n",
    "# Scatter plot\n",
    "plt.scatter(xaxis, yaxis, c = yaxis, cmap = 'cool')\n",
    "\n",
    "# Linear regression\n",
    "equation = linearregression(xaxis, yaxis)\n",
    "\n",
    "# Print line equation\n",
    "plt.annotate(equation,(-55,45),fontsize=15,color=\"red\")\n",
    "\n",
    "# Set textual properties\n",
    "plt.title(f'Southern Latitude vs. Cloudiness ' + time.strftime('%B %d, %Y'))\n",
    "plt.ylabel('Cloudiness %')\n",
    "plt.xlabel('Southern Latitude')\n",
    "\n",
    "# Format visualization\n",
    "plt.grid()\n",
    "plt.tight_layout()\n",
    "\n",
    "# Save plot to images folder\n",
    "plt.savefig('Images/southhemisphere-cloudinesslatitude.png')\n",
    "\n",
    "plt.show"
   ]
  },
  {
   "cell_type": "markdown",
   "metadata": {},
   "source": [
    "####  Northern Hemisphere - Wind Speed (mph) vs. Latitude Linear Regression"
   ]
  },
  {
   "cell_type": "code",
   "execution_count": null,
   "metadata": {},
   "outputs": [],
   "source": [
    "# Define x and y axis\n",
    "xaxis = northernhemisphere['Latitude']\n",
    "yaxis = northernhemisphere['Wind Speed']\n",
    "\n",
    "# Scatter plot\n",
    "plt.scatter(xaxis, yaxis, c = yaxis, cmap = 'cool')\n",
    "\n",
    "# Linear regression\n",
    "equation = linearregression(xaxis, yaxis)\n",
    "\n",
    "# Print line equation\n",
    "plt.annotate(equation,(20,25),fontsize=15,color=\"red\")\n",
    "\n",
    "# Set textual properties\n",
    "plt.title(f'Northern Latitude vs. Wind Speed ' + time.strftime('%B %d, %Y'))\n",
    "plt.ylabel('Wind Speed (MPH)')\n",
    "plt.xlabel('Northern Latitude')\n",
    "\n",
    "# Format visualization\n",
    "plt.grid()\n",
    "plt.tight_layout()\n",
    "\n",
    "# Save plot to images folder\n",
    "plt.savefig('Images/northhemisphere-windspeedlatitude.png')\n",
    "\n",
    "plt.show()"
   ]
  },
  {
   "cell_type": "markdown",
   "metadata": {},
   "source": [
    "####  Southern Hemisphere - Wind Speed (mph) vs. Latitude Linear Regression"
   ]
  },
  {
   "cell_type": "code",
   "execution_count": null,
   "metadata": {},
   "outputs": [],
   "source": [
    "# Define x and y axis\n",
    "xaxis = southernhemisphere['Latitude']\n",
    "yaxis = southernhemisphere['Wind Speed']\n",
    "\n",
    "# Scatter plot\n",
    "plt.scatter(xaxis, yaxis, c = yaxis, cmap = 'cool')\n",
    "\n",
    "# Linear regression\n",
    "equation = linearregression(xaxis, yaxis)\n",
    "\n",
    "# Print line equation\n",
    "plt.annotate(equation,(-50,25),fontsize=15,color=\"red\")\n",
    "\n",
    "# Set textual properties\n",
    "plt.title(f'Southern Latitude vs. Wind Speed ' + time.strftime('%B %d, %Y'))\n",
    "plt.ylabel('Wind Speed (MPH)')\n",
    "plt.xlabel('Southern Latitude')\n",
    "\n",
    "# Format visualization\n",
    "plt.grid()\n",
    "plt.tight_layout()\n",
    "\n",
    "# Save plot to images folder\n",
    "plt.savefig('Images/southhemisphere-windspeedlatitude.png')\n",
    "\n",
    "plt.show"
   ]
  }
 ],
 "metadata": {
  "anaconda-cloud": {},
  "kernel_info": {
   "name": "python3"
  },
  "kernelspec": {
   "display_name": "Python [conda env:PythonData] *",
   "language": "python",
   "name": "conda-env-PythonData-py"
  },
  "language_info": {
   "codemirror_mode": {
    "name": "ipython",
    "version": 3
   },
   "file_extension": ".py",
   "mimetype": "text/x-python",
   "name": "python",
   "nbconvert_exporter": "python",
   "pygments_lexer": "ipython3",
   "version": "3.6.10"
  },
  "latex_envs": {
   "LaTeX_envs_menu_present": true,
   "autoclose": false,
   "autocomplete": true,
   "bibliofile": "biblio.bib",
   "cite_by": "apalike",
   "current_citInitial": 1,
   "eqLabelWithNumbers": true,
   "eqNumInitial": 1,
   "hotkeys": {
    "equation": "Ctrl-E",
    "itemize": "Ctrl-I"
   },
   "labels_anchors": false,
   "latex_user_defs": false,
   "report_style_numbering": false,
   "user_envs_cfg": false
  },
  "nteract": {
   "version": "0.12.3"
  }
 },
 "nbformat": 4,
 "nbformat_minor": 2
}
